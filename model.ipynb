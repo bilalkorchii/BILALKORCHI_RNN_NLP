{
  "nbformat": 4,
  "nbformat_minor": 0,
  "metadata": {
    "colab": {
      "provenance": [],
      "gpuType": "T4",
      "authorship_tag": "ABX9TyOofWKIGXgTRssfnt6C1gqq",
      "include_colab_link": true
    },
    "kernelspec": {
      "name": "python3",
      "display_name": "Python 3"
    },
    "language_info": {
      "name": "python"
    },
    "accelerator": "GPU"
  },
  "cells": [
    {
      "cell_type": "markdown",
      "metadata": {
        "id": "view-in-github",
        "colab_type": "text"
      },
      "source": [
        "<a href=\"https://colab.research.google.com/github/bilalkorchii/BILALKORCHI_RNN_NLP/blob/main/model.ipynb\" target=\"_parent\"><img src=\"https://colab.research.google.com/assets/colab-badge.svg\" alt=\"Open In Colab\"/></a>"
      ]
    },
    {
      "cell_type": "code",
      "source": [
        "!pip install torch==2.0.1 torchvision torchaudio torchtext==0.15.2 --quiet\n"
      ],
      "metadata": {
        "id": "LKuGjDSTvLmu"
      },
      "execution_count": 3,
      "outputs": []
    },
    {
      "cell_type": "markdown",
      "source": [
        "# Text Classification with Hyperparameter Tuning using Keras Tuner\n",
        "\n",
        "This project aims to build an optimized deep learning model for binary text classification using TensorFlow and Keras.  \n",
        "We utilize an LSTM-based recurrent neural network architecture to capture sequential patterns in text data.  \n",
        "\n",
        "Key features of this project include:  \n",
        "- Data preprocessing with tokenization and padding  \n",
        "- Model architecture with embedding and LSTM layers  \n",
        "- Hyperparameter tuning using Keras Tuner (Hyperband) to find the best embedding dimension, number of LSTM units, learning rate, and dropout rates  \n",
        "- Early stopping and learning rate scheduling to improve model generalization and prevent overfitting  \n",
        "- Visualization of tuning trials and model performance metrics  \n",
        "\n",
        "The goal is to achieve the best possible classification accuracy by systematically searching the hyperparameter space and refining the model training process.\n"
      ],
      "metadata": {
        "id": "p_9F4zlWEwjG"
      }
    },
    {
      "cell_type": "code",
      "execution_count": 4,
      "metadata": {
        "id": "9ikXdG_ts6ch"
      },
      "outputs": [],
      "source": [
        "\n",
        "import torch\n",
        "from torch import nn\n",
        "from torchtext.datasets import IMDB\n",
        "from torchtext.data.utils import get_tokenizer\n",
        "from torchtext.vocab import build_vocab_from_iterator\n",
        "from torch.nn.utils.rnn import pad_sequence\n",
        "from torch.utils.data import DataLoader\n",
        "import random\n"
      ]
    },
    {
      "cell_type": "code",
      "source": [
        "!pip install portalocker\n"
      ],
      "metadata": {
        "colab": {
          "base_uri": "https://localhost:8080/"
        },
        "id": "zzDQYI7NvAUs",
        "outputId": "49d9684e-0e38-4dcb-c9d0-c80ba321e6d8"
      },
      "execution_count": 5,
      "outputs": [
        {
          "output_type": "stream",
          "name": "stdout",
          "text": [
            "Requirement already satisfied: portalocker in /usr/local/lib/python3.11/dist-packages (2.7.0)\n"
          ]
        }
      ]
    },
    {
      "cell_type": "code",
      "source": [
        "!pip install --upgrade portalocker==2.7.0\n"
      ],
      "metadata": {
        "colab": {
          "base_uri": "https://localhost:8080/"
        },
        "id": "uX8xTDlPvGeg",
        "outputId": "a244bd80-d96e-45d7-e55c-89643c9ddca3"
      },
      "execution_count": 6,
      "outputs": [
        {
          "output_type": "stream",
          "name": "stdout",
          "text": [
            "Requirement already satisfied: portalocker==2.7.0 in /usr/local/lib/python3.11/dist-packages (2.7.0)\n"
          ]
        }
      ]
    },
    {
      "cell_type": "markdown",
      "source": [
        "# Load IMDB dataset with top 10,000 frequent words\n"
      ],
      "metadata": {
        "id": "roCtlmGVC8Ny"
      }
    },
    {
      "cell_type": "code",
      "source": [
        "import tensorflow as tf\n",
        "from tensorflow.keras.datasets import imdb\n",
        "\n",
        "vocab_size = 10000\n",
        "(x_train, y_train), (x_test, y_test) = imdb.load_data(num_words=vocab_size)\n",
        "\n",
        "print(f'Training samples: {len(x_train)}')\n",
        "print(f'Test samples: {len(x_test)}')\n",
        "print(f'Example review (as word indexes): {x_train[0]}')\n",
        "print(f'Label (0=negative,1=positive): {y_train[0]}')\n"
      ],
      "metadata": {
        "colab": {
          "base_uri": "https://localhost:8080/"
        },
        "id": "0ruKiUOBu1uJ",
        "outputId": "ba9b1f1a-849b-4bff-93a6-7acb31cc742f"
      },
      "execution_count": 7,
      "outputs": [
        {
          "output_type": "stream",
          "name": "stdout",
          "text": [
            "Training samples: 25000\n",
            "Test samples: 25000\n",
            "Example review (as word indexes): [1, 14, 22, 16, 43, 530, 973, 1622, 1385, 65, 458, 4468, 66, 3941, 4, 173, 36, 256, 5, 25, 100, 43, 838, 112, 50, 670, 2, 9, 35, 480, 284, 5, 150, 4, 172, 112, 167, 2, 336, 385, 39, 4, 172, 4536, 1111, 17, 546, 38, 13, 447, 4, 192, 50, 16, 6, 147, 2025, 19, 14, 22, 4, 1920, 4613, 469, 4, 22, 71, 87, 12, 16, 43, 530, 38, 76, 15, 13, 1247, 4, 22, 17, 515, 17, 12, 16, 626, 18, 2, 5, 62, 386, 12, 8, 316, 8, 106, 5, 4, 2223, 5244, 16, 480, 66, 3785, 33, 4, 130, 12, 16, 38, 619, 5, 25, 124, 51, 36, 135, 48, 25, 1415, 33, 6, 22, 12, 215, 28, 77, 52, 5, 14, 407, 16, 82, 2, 8, 4, 107, 117, 5952, 15, 256, 4, 2, 7, 3766, 5, 723, 36, 71, 43, 530, 476, 26, 400, 317, 46, 7, 4, 2, 1029, 13, 104, 88, 4, 381, 15, 297, 98, 32, 2071, 56, 26, 141, 6, 194, 7486, 18, 4, 226, 22, 21, 134, 476, 26, 480, 5, 144, 30, 5535, 18, 51, 36, 28, 224, 92, 25, 104, 4, 226, 65, 16, 38, 1334, 88, 12, 16, 283, 5, 16, 4472, 113, 103, 32, 15, 16, 5345, 19, 178, 32]\n",
            "Label (0=negative,1=positive): 1\n"
          ]
        }
      ]
    },
    {
      "cell_type": "markdown",
      "source": [
        "# max number of words per review"
      ],
      "metadata": {
        "id": "GEYYwdyiC-p_"
      }
    },
    {
      "cell_type": "code",
      "source": [
        "from tensorflow.keras.preprocessing.sequence import pad_sequences\n",
        "\n",
        "maxlen = 200\n",
        "\n",
        "x_train_padded = pad_sequences(x_train, maxlen=maxlen, padding='post', truncating='post')\n",
        "x_test_padded = pad_sequences(x_test, maxlen=maxlen, padding='post', truncating='post')\n",
        "\n",
        "print(f\"Padded example (length={len(x_train_padded[0])}): {x_train_padded[0]}\")\n"
      ],
      "metadata": {
        "colab": {
          "base_uri": "https://localhost:8080/"
        },
        "id": "fnaxneugvTJ1",
        "outputId": "b984d1dd-330d-40fa-d05c-a7d3b0499a8d"
      },
      "execution_count": 8,
      "outputs": [
        {
          "output_type": "stream",
          "name": "stdout",
          "text": [
            "Padded example (length=200): [   1   14   22   16   43  530  973 1622 1385   65  458 4468   66 3941\n",
            "    4  173   36  256    5   25  100   43  838  112   50  670    2    9\n",
            "   35  480  284    5  150    4  172  112  167    2  336  385   39    4\n",
            "  172 4536 1111   17  546   38   13  447    4  192   50   16    6  147\n",
            " 2025   19   14   22    4 1920 4613  469    4   22   71   87   12   16\n",
            "   43  530   38   76   15   13 1247    4   22   17  515   17   12   16\n",
            "  626   18    2    5   62  386   12    8  316    8  106    5    4 2223\n",
            " 5244   16  480   66 3785   33    4  130   12   16   38  619    5   25\n",
            "  124   51   36  135   48   25 1415   33    6   22   12  215   28   77\n",
            "   52    5   14  407   16   82    2    8    4  107  117 5952   15  256\n",
            "    4    2    7 3766    5  723   36   71   43  530  476   26  400  317\n",
            "   46    7    4    2 1029   13  104   88    4  381   15  297   98   32\n",
            " 2071   56   26  141    6  194 7486   18    4  226   22   21  134  476\n",
            "   26  480    5  144   30 5535   18   51   36   28  224   92   25  104\n",
            "    4  226   65   16]\n"
          ]
        }
      ]
    },
    {
      "cell_type": "code",
      "source": [
        "!pip install -q keras-tuner\n"
      ],
      "metadata": {
        "id": "ZOacCkpDwz45"
      },
      "execution_count": 9,
      "outputs": []
    },
    {
      "cell_type": "markdown",
      "source": [],
      "metadata": {
        "id": "sXLpgoDWDCyq"
      }
    },
    {
      "cell_type": "markdown",
      "source": [
        " # build Model with keras tuner"
      ],
      "metadata": {
        "id": "bRoUbyMADFBK"
      }
    },
    {
      "cell_type": "code",
      "source": [
        "def build_model(hp):\n",
        "    model = Sequential()\n",
        "\n",
        "    # Tune embedding dimension: 16, 32, 64\n",
        "    embedding_dim = hp.Choice('embedding_dim', values=[16, 32, 64])\n",
        "    model.add(Embedding(input_dim=vocab_size, output_dim=embedding_dim, input_length=maxlen))\n",
        "\n",
        "    # Tune number of RNN units: 16, 32, 64\n",
        "    rnn_units = hp.Choice('rnn_units', values=[16, 32, 64])\n",
        "    model.add(SimpleRNN(rnn_units))\n",
        "\n",
        "    model.add(Dense(1, activation='sigmoid'))\n",
        "\n",
        "    # Tune learning rate\n",
        "    learning_rate = hp.Float('learning_rate', min_value=1e-4, max_value=1e-2, sampling='log')\n",
        "\n",
        "    model.compile(\n",
        "        optimizer=tf.keras.optimizers.Adam(learning_rate=learning_rate),\n",
        "        loss='binary_crossentropy',\n",
        "        metrics=['accuracy']\n",
        "    )\n",
        "    return model\n"
      ],
      "metadata": {
        "id": "Vq7dTYJmvaOc"
      },
      "execution_count": 10,
      "outputs": []
    },
    {
      "cell_type": "code",
      "source": [
        "from tensorflow.keras.models import Sequential\n",
        "from tensorflow.keras.layers import Embedding, SimpleRNN, Dense\n",
        "from tensorflow.keras.optimizers import Adam\n",
        "import keras_tuner as kt\n",
        "\n",
        "\n",
        "tuner = kt.Hyperband(\n",
        "    build_model,\n",
        "    objective='val_loss',\n",
        "    max_epochs=5,        # small to avoid long runs\n",
        "    factor=3,\n",
        "    directory='my_dir',\n",
        "    project_name='my_project'\n",
        ")\n",
        "\n"
      ],
      "metadata": {
        "colab": {
          "base_uri": "https://localhost:8080/"
        },
        "id": "mDs6gaumvc-M",
        "outputId": "e4cdb419-200f-415a-d3da-8f918828e5c4"
      },
      "execution_count": 11,
      "outputs": [
        {
          "output_type": "stream",
          "name": "stderr",
          "text": [
            "/usr/local/lib/python3.11/dist-packages/keras/src/layers/core/embedding.py:90: UserWarning: Argument `input_length` is deprecated. Just remove it.\n",
            "  warnings.warn(\n"
          ]
        }
      ]
    },
    {
      "cell_type": "code",
      "source": [
        "stop_early = tf.keras.callbacks.EarlyStopping(monitor='val_loss', patience=3)\n",
        "import os\n",
        "\n",
        "import tensorflow as tf\n",
        "tuner.search(\n",
        "    x_train_padded,\n",
        "    y_train,\n",
        "    epochs=10,\n",
        "    validation_split=0.2,\n",
        "    batch_size=8,          # or even 8 if needed\n",
        "    callbacks=[stop_early]\n",
        ")\n",
        "\n",
        "\n",
        "\n"
      ],
      "metadata": {
        "colab": {
          "base_uri": "https://localhost:8080/"
        },
        "id": "7C22Z1ZWvjSB",
        "outputId": "4f72c745-f350-45e3-fc41-b4035acc8916"
      },
      "execution_count": 12,
      "outputs": [
        {
          "output_type": "stream",
          "name": "stdout",
          "text": [
            "Trial 10 Complete [00h 03m 25s]\n",
            "val_loss: 0.6902648210525513\n",
            "\n",
            "Best val_loss So Far: 0.5916094183921814\n",
            "Total elapsed time: 00h 19m 16s\n"
          ]
        }
      ]
    },
    {
      "cell_type": "markdown",
      "source": [
        " # geting the best MOdel params"
      ],
      "metadata": {
        "id": "TeHhaRa4DKrl"
      }
    },
    {
      "cell_type": "code",
      "source": [
        "best_hp = tuner.get_best_hyperparameters(1)[0]\n",
        "print(\"Best hyperparameters:\")\n",
        "print(f\"Embedding dimension: {best_hp.get('embedding_dim')}\")\n",
        "print(f\"RNN units: {best_hp.get('rnn_units')}\")\n",
        "print(f\"Learning rate: {best_hp.get('learning_rate'):.5f}\")\n",
        "\n"
      ],
      "metadata": {
        "colab": {
          "base_uri": "https://localhost:8080/"
        },
        "id": "bkGL4x30xV7t",
        "outputId": "7d20520f-44e0-4f1d-fe86-5e1524968206"
      },
      "execution_count": 15,
      "outputs": [
        {
          "output_type": "stream",
          "name": "stdout",
          "text": [
            "Best hyperparameters:\n",
            "Embedding dimension: 64\n",
            "RNN units: 32\n",
            "Learning rate: 0.00015\n"
          ]
        }
      ]
    },
    {
      "cell_type": "markdown",
      "source": [
        " # Overfitting !!! Need to be solved from the results!!"
      ],
      "metadata": {
        "id": "e3MhG54hDPKE"
      }
    },
    {
      "cell_type": "code",
      "source": [
        "for trial in trials:\n",
        "    trial_id = trial.trial_id\n",
        "    hp = trial.hyperparameters.values\n",
        "\n",
        "    # Get metric histories:\n",
        "    train_acc = trial.metrics.get_history('accuracy')    # training accuracy\n",
        "    val_acc = trial.metrics.get_history('val_accuracy')  # validation accuracy\n",
        "    train_loss = trial.metrics.get_history('loss')       # training loss\n",
        "    val_loss = trial.metrics.get_history('val_loss')     # validation loss\n",
        "\n",
        "    # Extract just the metric values:\n",
        "    train_acc_vals = [m.value[0] if isinstance(m.value, (list,tuple)) else m.value for m in train_acc]\n",
        "    val_acc_vals = [m.value[0] if isinstance(m.value, (list,tuple)) else m.value for m in val_acc]\n",
        "    train_loss_vals = [m.value[0] if isinstance(m.value, (list,tuple)) else m.value for m in train_loss]\n",
        "    val_loss_vals = [m.value[0] if isinstance(m.value, (list,tuple)) else m.value for m in val_loss]\n",
        "\n",
        "    print(f\"\\nTrial {trial_id} - Hyperparameters: {hp}\")\n",
        "\n",
        "    print(\"Epoch | Train Acc | Val Acc | Train Loss | Val Loss\")\n",
        "    for i in range(max(len(train_acc_vals), len(val_acc_vals), len(train_loss_vals), len(val_loss_vals))):\n",
        "        ta = f\"{train_acc_vals[i]:.4f}\" if i < len(train_acc_vals) else \"-\"\n",
        "        va = f\"{val_acc_vals[i]:.4f}\" if i < len(val_acc_vals) else \"-\"\n",
        "        tl = f\"{train_loss_vals[i]:.4f}\" if i < len(train_loss_vals) else \"-\"\n",
        "        vl = f\"{val_loss_vals[i]:.4f}\" if i < len(val_loss_vals) else \"-\"\n",
        "        print(f\"{i+1:5d} | {ta:9} | {va:7} | {tl:10} | {vl:8}\")\n"
      ],
      "metadata": {
        "colab": {
          "base_uri": "https://localhost:8080/"
        },
        "id": "UCvQP1qfAcAx",
        "outputId": "df42048a-8414-4a56-db73-8fad79bad44f"
      },
      "execution_count": 45,
      "outputs": [
        {
          "output_type": "stream",
          "name": "stdout",
          "text": [
            "\n",
            "Trial 0000 - Hyperparameters: {'embedding_dim': 16, 'rnn_units': 16, 'learning_rate': 0.0037713086175852817, 'tuner/epochs': 2, 'tuner/initial_epoch': 0, 'tuner/bracket': 1, 'tuner/round': 0}\n",
            "Epoch | Train Acc | Val Acc | Train Loss | Val Loss\n",
            "    1 | 0.5080    | 0.4998  | 0.6965     | 0.6949  \n",
            "\n",
            "Trial 0001 - Hyperparameters: {'embedding_dim': 64, 'rnn_units': 32, 'learning_rate': 0.00015359239632010879, 'tuner/epochs': 2, 'tuner/initial_epoch': 0, 'tuner/bracket': 1, 'tuner/round': 0}\n",
            "Epoch | Train Acc | Val Acc | Train Loss | Val Loss\n",
            "    1 | 0.6180    | 0.6364  | 0.6566     | 0.6647  \n",
            "\n",
            "Trial 0002 - Hyperparameters: {'embedding_dim': 16, 'rnn_units': 64, 'learning_rate': 0.0006817113246107111, 'tuner/epochs': 2, 'tuner/initial_epoch': 0, 'tuner/bracket': 1, 'tuner/round': 0}\n",
            "Epoch | Train Acc | Val Acc | Train Loss | Val Loss\n",
            "    1 | 0.5357    | 0.5082  | 0.6894     | 0.6928  \n",
            "\n",
            "Trial 0003 - Hyperparameters: {'embedding_dim': 64, 'rnn_units': 32, 'learning_rate': 0.0009635513804323065, 'tuner/epochs': 2, 'tuner/initial_epoch': 0, 'tuner/bracket': 1, 'tuner/round': 0}\n",
            "Epoch | Train Acc | Val Acc | Train Loss | Val Loss\n",
            "    1 | 0.5009    | 0.5130  | 0.6959     | 0.6940  \n",
            "\n",
            "Trial 0004 - Hyperparameters: {'embedding_dim': 32, 'rnn_units': 32, 'learning_rate': 0.001125631133600534, 'tuner/epochs': 2, 'tuner/initial_epoch': 0, 'tuner/bracket': 1, 'tuner/round': 0}\n",
            "Epoch | Train Acc | Val Acc | Train Loss | Val Loss\n",
            "    1 | 0.4947    | 0.5050  | 0.6966     | 0.6947  \n",
            "\n",
            "Trial 0005 - Hyperparameters: {'embedding_dim': 64, 'rnn_units': 32, 'learning_rate': 0.00015359239632010879, 'tuner/epochs': 5, 'tuner/initial_epoch': 2, 'tuner/bracket': 1, 'tuner/round': 1, 'tuner/trial_id': '0001'}\n",
            "Epoch | Train Acc | Val Acc | Train Loss | Val Loss\n",
            "    1 | 0.8939    | 0.7472  | 0.2912     | 0.5916  \n",
            "\n",
            "Trial 0006 - Hyperparameters: {'embedding_dim': 16, 'rnn_units': 64, 'learning_rate': 0.0006817113246107111, 'tuner/epochs': 5, 'tuner/initial_epoch': 2, 'tuner/bracket': 1, 'tuner/round': 1, 'tuner/trial_id': '0002'}\n",
            "Epoch | Train Acc | Val Acc | Train Loss | Val Loss\n",
            "    1 | 0.5628    | 0.5156  | 0.6761     | 0.6943  \n",
            "\n",
            "Trial 0007 - Hyperparameters: {'embedding_dim': 64, 'rnn_units': 32, 'learning_rate': 0.00022960488186402956, 'tuner/epochs': 5, 'tuner/initial_epoch': 0, 'tuner/bracket': 0, 'tuner/round': 0}\n",
            "Epoch | Train Acc | Val Acc | Train Loss | Val Loss\n",
            "    1 | 0.5066    | 0.5022  | 0.6941     | 0.6930  \n",
            "\n",
            "Trial 0008 - Hyperparameters: {'embedding_dim': 16, 'rnn_units': 64, 'learning_rate': 0.009158900495900792, 'tuner/epochs': 5, 'tuner/initial_epoch': 0, 'tuner/bracket': 0, 'tuner/round': 0}\n",
            "Epoch | Train Acc | Val Acc | Train Loss | Val Loss\n",
            "    1 | 0.5001    | 0.5062  | 0.7181     | 0.7021  \n",
            "\n",
            "Trial 0009 - Hyperparameters: {'embedding_dim': 64, 'rnn_units': 64, 'learning_rate': 0.002582395034017547, 'tuner/epochs': 5, 'tuner/initial_epoch': 0, 'tuner/bracket': 0, 'tuner/round': 0}\n",
            "Epoch | Train Acc | Val Acc | Train Loss | Val Loss\n",
            "    1 | 0.5452    | 0.5248  | 0.6861     | 0.6903  \n"
          ]
        }
      ]
    },
    {
      "cell_type": "markdown",
      "source": [
        " # adding the best Hp and adding Drop out for Overfitting/regularizer"
      ],
      "metadata": {
        "id": "asLHz0kRDWz6"
      }
    },
    {
      "cell_type": "code",
      "source": [
        "import tensorflow as tf\n",
        "from tensorflow.keras.models import Sequential\n",
        "from tensorflow.keras.layers import Embedding, LSTM, Dense, Dropout\n",
        "from tensorflow.keras.optimizers import Adam\n",
        "\n",
        "def build_model(hp):\n",
        "    model = Sequential()\n",
        "    model.add(Embedding(input_dim=vocab_size, output_dim=hp.get('embedding_dim'), input_length=maxlen))\n",
        "    model.add(Dropout(0.3))  # Add dropout after embedding to prevent overfitting\n",
        "    model.add(LSTM(hp.get('rnn_units'), return_sequences=False))\n",
        "    model.add(Dropout(0.3))  # Dropout after LSTM\n",
        "    model.add(Dense(1, activation='sigmoid'))\n",
        "\n",
        "    optimizer = Adam(learning_rate=hp.get('learning_rate'))\n",
        "    model.compile(loss='binary_crossentropy', optimizer=optimizer, metrics=['accuracy'])\n",
        "    return model\n",
        "\n",
        "# Build best model\n",
        "best_model = build_model(best_hp)\n",
        "\n",
        "# Early stopping callback to avoid overfitting\n",
        "stop_early = tf.keras.callbacks.EarlyStopping(monitor='val_loss', patience=2, restore_best_weights=True)\n",
        "\n",
        "# Train the best model\n",
        "history = best_model.fit(\n",
        "    x_train_padded, y_train,\n",
        "    epochs=80,\n",
        "    validation_split=0.2,\n",
        "    callbacks=[stop_early],\n",
        "    batch_size=16\n",
        ")\n"
      ],
      "metadata": {
        "colab": {
          "base_uri": "https://localhost:8080/"
        },
        "id": "okfP0Uz-57WS",
        "outputId": "85746d9a-e22a-41ff-b893-52cc06b64be0"
      },
      "execution_count": 103,
      "outputs": [
        {
          "output_type": "stream",
          "name": "stdout",
          "text": [
            "Epoch 1/80\n",
            "\u001b[1m1250/1250\u001b[0m \u001b[32m━━━━━━━━━━━━━━━━━━━━\u001b[0m\u001b[37m\u001b[0m \u001b[1m15s\u001b[0m 10ms/step - accuracy: 0.5069 - loss: 0.6931 - val_accuracy: 0.5306 - val_loss: 0.6920\n",
            "Epoch 2/80\n",
            "\u001b[1m1250/1250\u001b[0m \u001b[32m━━━━━━━━━━━━━━━━━━━━\u001b[0m\u001b[37m\u001b[0m \u001b[1m21s\u001b[0m 11ms/step - accuracy: 0.5747 - loss: 0.6775 - val_accuracy: 0.7654 - val_loss: 0.5454\n",
            "Epoch 3/80\n",
            "\u001b[1m1250/1250\u001b[0m \u001b[32m━━━━━━━━━━━━━━━━━━━━\u001b[0m\u001b[37m\u001b[0m \u001b[1m19s\u001b[0m 10ms/step - accuracy: 0.7892 - loss: 0.5145 - val_accuracy: 0.8414 - val_loss: 0.4201\n",
            "Epoch 4/80\n",
            "\u001b[1m1250/1250\u001b[0m \u001b[32m━━━━━━━━━━━━━━━━━━━━\u001b[0m\u001b[37m\u001b[0m \u001b[1m13s\u001b[0m 10ms/step - accuracy: 0.7861 - loss: 0.5082 - val_accuracy: 0.8432 - val_loss: 0.4030\n",
            "Epoch 5/80\n",
            "\u001b[1m1250/1250\u001b[0m \u001b[32m━━━━━━━━━━━━━━━━━━━━\u001b[0m\u001b[37m\u001b[0m \u001b[1m20s\u001b[0m 10ms/step - accuracy: 0.8556 - loss: 0.4051 - val_accuracy: 0.8408 - val_loss: 0.4300\n",
            "Epoch 6/80\n",
            "\u001b[1m1250/1250\u001b[0m \u001b[32m━━━━━━━━━━━━━━━━━━━━\u001b[0m\u001b[37m\u001b[0m \u001b[1m21s\u001b[0m 10ms/step - accuracy: 0.8781 - loss: 0.3621 - val_accuracy: 0.8076 - val_loss: 0.4765\n"
          ]
        }
      ]
    },
    {
      "cell_type": "markdown",
      "source": [
        "# Training the updated model\n",
        "\n"
      ],
      "metadata": {
        "id": "3gU8yUc-FOC9"
      }
    },
    {
      "cell_type": "code",
      "source": [
        "\n"
      ],
      "metadata": {
        "colab": {
          "base_uri": "https://localhost:8080/"
        },
        "id": "IJu1vrhwFWnV",
        "outputId": "9791be0d-3dd0-4fc4-8ff8-894ed68b5e06"
      },
      "execution_count": 97,
      "outputs": [
        {
          "output_type": "stream",
          "name": "stdout",
          "text": [
            "Epoch 1/80\n",
            "\u001b[1m1250/1250\u001b[0m \u001b[32m━━━━━━━━━━━━━━━━━━━━\u001b[0m\u001b[37m\u001b[0m \u001b[1m25s\u001b[0m 18ms/step - accuracy: 0.5659 - loss: 0.6583 - val_accuracy: 0.8568 - val_loss: 0.3514\n",
            "Epoch 2/80\n",
            "\u001b[1m1250/1250\u001b[0m \u001b[32m━━━━━━━━━━━━━━━━━━━━\u001b[0m\u001b[37m\u001b[0m \u001b[1m21s\u001b[0m 17ms/step - accuracy: 0.8783 - loss: 0.3101 - val_accuracy: 0.8710 - val_loss: 0.3102\n",
            "Epoch 3/80\n",
            "\u001b[1m1250/1250\u001b[0m \u001b[32m━━━━━━━━━━━━━━━━━━━━\u001b[0m\u001b[37m\u001b[0m \u001b[1m42s\u001b[0m 17ms/step - accuracy: 0.9168 - loss: 0.2268 - val_accuracy: 0.8700 - val_loss: 0.3147\n",
            "Epoch 4/80\n",
            "\u001b[1m1250/1250\u001b[0m \u001b[32m━━━━━━━━━━━━━━━━━━━━\u001b[0m\u001b[37m\u001b[0m \u001b[1m41s\u001b[0m 17ms/step - accuracy: 0.9384 - loss: 0.1795 - val_accuracy: 0.8750 - val_loss: 0.3239\n",
            "Epoch 5/80\n",
            "\u001b[1m1250/1250\u001b[0m \u001b[32m━━━━━━━━━━━━━━━━━━━━\u001b[0m\u001b[37m\u001b[0m \u001b[1m41s\u001b[0m 18ms/step - accuracy: 0.9523 - loss: 0.1453 - val_accuracy: 0.8642 - val_loss: 0.3626\n",
            "Epoch 6/80\n",
            "\u001b[1m1250/1250\u001b[0m \u001b[32m━━━━━━━━━━━━━━━━━━━━\u001b[0m\u001b[37m\u001b[0m \u001b[1m40s\u001b[0m 17ms/step - accuracy: 0.9574 - loss: 0.1330 - val_accuracy: 0.8642 - val_loss: 0.3774\n",
            "Epoch 7/80\n",
            "\u001b[1m1250/1250\u001b[0m \u001b[32m━━━━━━━━━━━━━━━━━━━━\u001b[0m\u001b[37m\u001b[0m \u001b[1m22s\u001b[0m 17ms/step - accuracy: 0.9654 - loss: 0.1087 - val_accuracy: 0.8500 - val_loss: 0.5617\n"
          ]
        }
      ]
    },
    {
      "cell_type": "markdown",
      "source": [
        "# Testing: better tokenizer: splits punctuation properly"
      ],
      "metadata": {
        "id": "KEpoeF46DnMQ"
      }
    },
    {
      "cell_type": "code",
      "source": [
        "import tensorflow as tf\n",
        "from tensorflow.keras.preprocessing.sequence import pad_sequences\n",
        "from tensorflow.keras.preprocessing.text import text_to_word_sequence\n",
        "\n",
        "def encode_review(text):\n",
        "    tokens = text_to_word_sequence(text)\n",
        "    encoded = [word_index.get(word, 2) + 3 for word in tokens]\n",
        "    return pad_sequences([encoded], maxlen=maxlen, padding='post')\n",
        "\n",
        "new_review = \"Prices are way too high for the quality offered. Not worth shopping here\"\n",
        "encoded_review = encode_review(new_review)\n",
        "prediction = best_model.predict(encoded_review)[0][0]\n",
        "\n",
        "confidence = prediction * 100\n",
        "sentiment = \"Positive\" if prediction >= 0.5 else \"Negative\"\n",
        "bar_length = int(confidence // 5)\n",
        "\n",
        "print(f\"Review: \\\"{new_review}\\\"\")\n",
        "print(f\"Sentiment: {sentiment} ({confidence:.2f}%)\")\n",
        "print(\"Confidence: [\" + \"#\" * bar_length + \"-\" * (20 - bar_length) + \"]\")\n"
      ],
      "metadata": {
        "colab": {
          "base_uri": "https://localhost:8080/"
        },
        "id": "iV-eDuQWxYi8",
        "outputId": "4f187625-e845-40ed-b726-ca6113df67f6"
      },
      "execution_count": 109,
      "outputs": [
        {
          "output_type": "stream",
          "name": "stdout",
          "text": [
            "\u001b[1m1/1\u001b[0m \u001b[32m━━━━━━━━━━━━━━━━━━━━\u001b[0m\u001b[37m\u001b[0m \u001b[1m0s\u001b[0m 42ms/step\n",
            "Review: \"Prices are way too high for the quality offered. Not worth shopping here\"\n",
            "Sentiment: Negative (18.91%)\n",
            "Confidence: [###-----------------]\n"
          ]
        }
      ]
    },
    {
      "cell_type": "markdown",
      "source": [
        "# Plot training & validation loss values\n"
      ],
      "metadata": {
        "id": "zUA67NhNDieB"
      }
    },
    {
      "cell_type": "code",
      "source": [
        "import matplotlib.pyplot as plt\n",
        "\n",
        "plt.figure(figsize=(12, 5))\n",
        "\n",
        "plt.subplot(1, 2, 1)\n",
        "plt.plot(history.history['accuracy'], label='Train Accuracy')\n",
        "plt.plot(history.history['val_accuracy'], label='Validation Accuracy')\n",
        "plt.title('Model Accuracy')\n",
        "plt.xlabel('Epoch')\n",
        "plt.ylabel('Accuracy')\n",
        "plt.legend()\n",
        "\n",
        "plt.subplot(1, 2, 2)\n",
        "plt.plot(history.history['loss'], label='Train Loss')\n",
        "plt.plot(history.history['val_loss'], label='Validation Loss')\n",
        "plt.title('Model Loss')\n",
        "plt.xlabel('Epoch')\n",
        "plt.ylabel('Loss')\n",
        "plt.legend()\n",
        "\n",
        "plt.show()\n"
      ],
      "metadata": {
        "colab": {
          "base_uri": "https://localhost:8080/",
          "height": 487
        },
        "id": "9D57o2cqxazT",
        "outputId": "92d3eac3-e016-49c4-9de8-9c15e1593e0d"
      },
      "execution_count": 104,
      "outputs": [
        {
          "output_type": "display_data",
          "data": {
            "text/plain": [
              "<Figure size 1200x500 with 2 Axes>"
            ],
            "image/png": "[encoded data removed]"
          },
          "metadata": {}
        }
      ]
    },
    {
      "cell_type": "markdown",
      "source": [
        "  #   Conclusion\n",
        "The model uses Bidirectional LSTM with dropout and L2 regularization to reduce overfitting.\n",
        "\n",
        "Despite these regularization techniques, the validation loss curve showed some irregular behavior, possibly due to:\n",
        "\n",
        "Strong regularization causing underfitting early in training.\n",
        "\n",
        "Potential data imbalance or noisy validation split.\n",
        "\n",
        "Learning rate being too high or batch size too small.\n",
        "\n",
        "To address this, consider:\n",
        "\n",
        "Reducing dropout rate and L2 regularization strength.\n",
        "\n",
        "Using stratified train/validation splits to ensure balanced classes.\n",
        "\n",
        "Adding learning rate scheduling such as ReduceLROnPlateau.\n",
        "\n",
        "Experimenting with different batch sizes.\n",
        "\n",
        "Early stopping was used to prevent overfitting, restoring the best weights based on validation loss.\n",
        "\n",
        "Overall, validation loss fluctuations are common in NLP sequence models with regularization; monitoring both validation loss and accuracy is important.\n",
        "\n",
        "Future steps include refining data splits, tuning hyperparameters further, and possibly increasing training data for better generalization."
      ],
      "metadata": {
        "id": "R-l10bbOZhDk"
      }
    }
  ]
}