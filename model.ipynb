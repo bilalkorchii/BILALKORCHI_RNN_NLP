{
  "nbformat": 4,
  "nbformat_minor": 0,
  "metadata": {
    "colab": {
      "provenance": [],
      "gpuType": "T4",
      "include_colab_link": true
    },
    "kernelspec": {
      "name": "python3",
      "display_name": "Python 3"
    },
    "language_info": {
      "name": "python"
    },
    "accelerator": "GPU"
  },
  "cells": [
    {
      "cell_type": "markdown",
      "metadata": {
        "id": "view-in-github",
        "colab_type": "text"
      },
      "source": [
        "<a href=\"https://colab.research.google.com/github/bilalkorchii/BILALKORCHI_RNN_NLP/blob/main/model.ipynb\" target=\"_parent\"><img src=\"https://colab.research.google.com/assets/colab-badge.svg\" alt=\"Open In Colab\"/></a>"
      ]
    },
    {
      "cell_type": "code",
      "source": [
        "!pip install torch==2.0.1 torchvision torchaudio torchtext==0.15.2 --quiet\n"
      ],
      "metadata": {
        "id": "LKuGjDSTvLmu",
        "outputId": "284165d3-a702-4e96-a639-d0077f0bede8",
        "colab": {
          "base_uri": "https://localhost:8080/"
        }
      },
      "execution_count": 1,
      "outputs": [
        {
          "output_type": "stream",
          "name": "stdout",
          "text": [
            "\u001b[2K   \u001b[90m━━━━━━━━━━━━━━━━━━━━━━━━━━━━━━━━━━━━━━━━\u001b[0m \u001b[32m619.9/619.9 MB\u001b[0m \u001b[31m3.0 MB/s\u001b[0m eta \u001b[36m0:00:00\u001b[0m\n",
            "\u001b[2K   \u001b[90m━━━━━━━━━━━━━━━━━━━━━━━━━━━━━━━━━━━━━━━━\u001b[0m \u001b[32m2.0/2.0 MB\u001b[0m \u001b[31m86.1 MB/s\u001b[0m eta \u001b[36m0:00:00\u001b[0m\n",
            "\u001b[2K   \u001b[90m━━━━━━━━━━━━━━━━━━━━━━━━━━━━━━━━━━━━━━━━\u001b[0m \u001b[32m317.1/317.1 MB\u001b[0m \u001b[31m4.4 MB/s\u001b[0m eta \u001b[36m0:00:00\u001b[0m\n",
            "\u001b[2K   \u001b[90m━━━━━━━━━━━━━━━━━━━━━━━━━━━━━━━━━━━━━━━━\u001b[0m \u001b[32m11.8/11.8 MB\u001b[0m \u001b[31m106.6 MB/s\u001b[0m eta \u001b[36m0:00:00\u001b[0m\n",
            "\u001b[2K   \u001b[90m━━━━━━━━━━━━━━━━━━━━━━━━━━━━━━━━━━━━━━━━\u001b[0m \u001b[32m21.0/21.0 MB\u001b[0m \u001b[31m92.6 MB/s\u001b[0m eta \u001b[36m0:00:00\u001b[0m\n",
            "\u001b[2K   \u001b[90m━━━━━━━━━━━━━━━━━━━━━━━━━━━━━━━━━━━━━━━━\u001b[0m \u001b[32m849.3/849.3 kB\u001b[0m \u001b[31m52.4 MB/s\u001b[0m eta \u001b[36m0:00:00\u001b[0m\n",
            "\u001b[2K   \u001b[90m━━━━━━━━━━━━━━━━━━━━━━━━━━━━━━━━━━━━━━━━\u001b[0m \u001b[32m557.1/557.1 MB\u001b[0m \u001b[31m3.1 MB/s\u001b[0m eta \u001b[36m0:00:00\u001b[0m\n",
            "\u001b[2K   \u001b[90m━━━━━━━━━━━━━━━━━━━━━━━━━━━━━━━━━━━━━━━━\u001b[0m \u001b[32m168.4/168.4 MB\u001b[0m \u001b[31m6.0 MB/s\u001b[0m eta \u001b[36m0:00:00\u001b[0m\n",
            "\u001b[2K   \u001b[90m━━━━━━━━━━━━━━━━━━━━━━━━━━━━━━━━━━━━━━━━\u001b[0m \u001b[32m54.6/54.6 MB\u001b[0m \u001b[31m12.1 MB/s\u001b[0m eta \u001b[36m0:00:00\u001b[0m\n",
            "\u001b[2K   \u001b[90m━━━━━━━━━━━━━━━━━━━━━━━━━━━━━━━━━━━━━━━━\u001b[0m \u001b[32m102.6/102.6 MB\u001b[0m \u001b[31m8.5 MB/s\u001b[0m eta \u001b[36m0:00:00\u001b[0m\n",
            "\u001b[2K   \u001b[90m━━━━━━━━━━━━━━━━━━━━━━━━━━━━━━━━━━━━━━━━\u001b[0m \u001b[32m173.2/173.2 MB\u001b[0m \u001b[31m6.4 MB/s\u001b[0m eta \u001b[36m0:00:00\u001b[0m\n",
            "\u001b[2K   \u001b[90m━━━━━━━━━━━━━━━━━━━━━━━━━━━━━━━━━━━━━━━━\u001b[0m \u001b[32m177.1/177.1 MB\u001b[0m \u001b[31m6.4 MB/s\u001b[0m eta \u001b[36m0:00:00\u001b[0m\n",
            "\u001b[2K   \u001b[90m━━━━━━━━━━━━━━━━━━━━━━━━━━━━━━━━━━━━━━━━\u001b[0m \u001b[32m98.6/98.6 kB\u001b[0m \u001b[31m8.5 MB/s\u001b[0m eta \u001b[36m0:00:00\u001b[0m\n",
            "\u001b[2K   \u001b[90m━━━━━━━━━━━━━━━━━━━━━━━━━━━━━━━━━━━━━━━━\u001b[0m \u001b[32m4.6/4.6 MB\u001b[0m \u001b[31m89.5 MB/s\u001b[0m eta \u001b[36m0:00:00\u001b[0m\n",
            "\u001b[2K   \u001b[90m━━━━━━━━━━━━━━━━━━━━━━━━━━━━━━━━━━━━━━━━\u001b[0m \u001b[32m63.3/63.3 MB\u001b[0m \u001b[31m12.1 MB/s\u001b[0m eta \u001b[36m0:00:00\u001b[0m\n",
            "\u001b[2K   \u001b[90m━━━━━━━━━━━━━━━━━━━━━━━━━━━━━━━━━━━━━━━━\u001b[0m \u001b[32m6.0/6.0 MB\u001b[0m \u001b[31m74.7 MB/s\u001b[0m eta \u001b[36m0:00:00\u001b[0m\n",
            "\u001b[2K   \u001b[90m━━━━━━━━━━━━━━━━━━━━━━━━━━━━━━━━━━━━━━━━\u001b[0m \u001b[32m4.4/4.4 MB\u001b[0m \u001b[31m34.7 MB/s\u001b[0m eta \u001b[36m0:00:00\u001b[0m\n",
            "\u001b[2K   \u001b[90m━━━━━━━━━━━━━━━━━━━━━━━━━━━━━━━━━━━━━━━━\u001b[0m \u001b[32m96.4/96.4 kB\u001b[0m \u001b[31m9.2 MB/s\u001b[0m eta \u001b[36m0:00:00\u001b[0m\n",
            "\u001b[?25h\u001b[31mERROR: pip's dependency resolver does not currently take into account all the packages that are installed. This behaviour is the source of the following dependency conflicts.\n",
            "torchtune 0.6.1 requires torchdata==0.11.0, but you have torchdata 0.6.1 which is incompatible.\u001b[0m\u001b[31m\n",
            "\u001b[0m"
          ]
        }
      ]
    },
    {
      "cell_type": "markdown",
      "source": [
        "# Text Classification with Hyperparameter Tuning using Keras Tuner\n",
        "\n",
        "This project aims to build an optimized deep learning model for binary text classification using TensorFlow and Keras.  \n",
        "We utilize an LSTM-based recurrent neural network architecture to capture sequential patterns in text data.  \n",
        "\n",
        "Key features of this project include:  \n",
        "- Data preprocessing with tokenization and padding  \n",
        "- Model architecture with embedding and LSTM layers  \n",
        "- Hyperparameter tuning using Keras Tuner (Hyperband) to find the best embedding dimension, number of LSTM units, learning rate, and dropout rates  \n",
        "- Early stopping and learning rate scheduling to improve model generalization and prevent overfitting  \n",
        "- Visualization of tuning trials and model performance metrics  \n",
        "\n",
        "The goal is to achieve the best possible classification accuracy by systematically searching the hyperparameter space and refining the model training process.\n"
      ],
      "metadata": {
        "id": "p_9F4zlWEwjG"
      }
    },
    {
      "cell_type": "code",
      "execution_count": 2,
      "metadata": {
        "id": "9ikXdG_ts6ch"
      },
      "outputs": [],
      "source": [
        "\n",
        "import torch\n",
        "from torch import nn\n",
        "from torchtext.datasets import IMDB\n",
        "from torchtext.data.utils import get_tokenizer\n",
        "from torchtext.vocab import build_vocab_from_iterator\n",
        "from torch.nn.utils.rnn import pad_sequence\n",
        "from torch.utils.data import DataLoader\n",
        "import random\n"
      ]
    },
    {
      "cell_type": "code",
      "source": [
        "!pip install portalocker\n"
      ],
      "metadata": {
        "colab": {
          "base_uri": "https://localhost:8080/"
        },
        "id": "zzDQYI7NvAUs",
        "outputId": "380aae9b-586c-42e0-9771-93ce54ac03b5"
      },
      "execution_count": 3,
      "outputs": [
        {
          "output_type": "stream",
          "name": "stdout",
          "text": [
            "Collecting portalocker\n",
            "  Downloading portalocker-3.1.1-py3-none-any.whl.metadata (8.6 kB)\n",
            "Downloading portalocker-3.1.1-py3-none-any.whl (19 kB)\n",
            "Installing collected packages: portalocker\n",
            "Successfully installed portalocker-3.1.1\n"
          ]
        }
      ]
    },
    {
      "cell_type": "code",
      "source": [
        "!pip install --upgrade portalocker==2.7.0\n"
      ],
      "metadata": {
        "colab": {
          "base_uri": "https://localhost:8080/"
        },
        "id": "uX8xTDlPvGeg",
        "outputId": "227f2710-932f-42b7-d923-7775d0293a3d"
      },
      "execution_count": 4,
      "outputs": [
        {
          "output_type": "stream",
          "name": "stdout",
          "text": [
            "Collecting portalocker==2.7.0\n",
            "  Downloading portalocker-2.7.0-py2.py3-none-any.whl.metadata (6.8 kB)\n",
            "Downloading portalocker-2.7.0-py2.py3-none-any.whl (15 kB)\n",
            "Installing collected packages: portalocker\n",
            "  Attempting uninstall: portalocker\n",
            "    Found existing installation: portalocker 3.1.1\n",
            "    Uninstalling portalocker-3.1.1:\n",
            "      Successfully uninstalled portalocker-3.1.1\n",
            "Successfully installed portalocker-2.7.0\n"
          ]
        }
      ]
    },
    {
      "cell_type": "markdown",
      "source": [
        "# Load IMDB dataset with top 10,000 frequent words\n"
      ],
      "metadata": {
        "id": "roCtlmGVC8Ny"
      }
    },
    {
      "cell_type": "code",
      "source": [
        "import tensorflow as tf\n",
        "from tensorflow.keras.datasets import imdb\n",
        "\n",
        "vocab_size = 5000\n",
        "(x_train, y_train), (x_test, y_test) = imdb.load_data(num_words=vocab_size)\n",
        "\n",
        "print(f'Training samples: {len(x_train)}')\n",
        "print(f'Test samples: {len(x_test)}')\n",
        "print(f'Example review (as word indexes): {x_train[0]}')\n",
        "print(f'Label (0=negative,1=positive): {y_train[0]}')\n"
      ],
      "metadata": {
        "colab": {
          "base_uri": "https://localhost:8080/"
        },
        "id": "0ruKiUOBu1uJ",
        "outputId": "62ae3e5c-24f1-4086-b0e4-acc7b0761ee5"
      },
      "execution_count": 14,
      "outputs": [
        {
          "output_type": "stream",
          "name": "stdout",
          "text": [
            "Training samples: 25000\n",
            "Test samples: 25000\n",
            "Example review (as word indexes): [1, 14, 22, 16, 43, 530, 973, 1622, 1385, 65, 458, 4468, 66, 3941, 4, 173, 36, 256, 5, 25, 100, 43, 838, 112, 50, 670, 2, 9, 35, 480, 284, 5, 150, 4, 172, 112, 167, 2, 336, 385, 39, 4, 172, 4536, 1111, 17, 546, 38, 13, 447, 4, 192, 50, 16, 6, 147, 2025, 19, 14, 22, 4, 1920, 4613, 469, 4, 22, 71, 87, 12, 16, 43, 530, 38, 76, 15, 13, 1247, 4, 22, 17, 515, 17, 12, 16, 626, 18, 2, 5, 62, 386, 12, 8, 316, 8, 106, 5, 4, 2223, 2, 16, 480, 66, 3785, 33, 4, 130, 12, 16, 38, 619, 5, 25, 124, 51, 36, 135, 48, 25, 1415, 33, 6, 22, 12, 215, 28, 77, 52, 5, 14, 407, 16, 82, 2, 8, 4, 107, 117, 2, 15, 256, 4, 2, 7, 3766, 5, 723, 36, 71, 43, 530, 476, 26, 400, 317, 46, 7, 4, 2, 1029, 13, 104, 88, 4, 381, 15, 297, 98, 32, 2071, 56, 26, 141, 6, 194, 2, 18, 4, 226, 22, 21, 134, 476, 26, 480, 5, 144, 30, 2, 18, 51, 36, 28, 224, 92, 25, 104, 4, 226, 65, 16, 38, 1334, 88, 12, 16, 283, 5, 16, 4472, 113, 103, 32, 15, 16, 2, 19, 178, 32]\n",
            "Label (0=negative,1=positive): 1\n"
          ]
        }
      ]
    },
    {
      "cell_type": "code",
      "source": [
        "import tensorflow as tf\n",
        "from tensorflow.keras.datasets import imdb\n",
        "from tensorflow.keras.preprocessing.sequence import pad_sequences\n",
        "\n",
        "# Load IMDB dataset\n",
        "vocab_size = 5000\n",
        "(x_train, y_train), (x_test, y_test) = imdb.load_data(num_words=vocab_size)\n",
        "\n",
        "# Display basic info\n",
        "print(f'Training samples: {len(x_train)}')\n",
        "print(f'Test samples: {len(x_test)}')\n",
        "print(f'Example review (as word indexes): {x_train[0]}')\n",
        "print(f'Label (0=negative,1=positive): {y_train[0]}')\n",
        "\n",
        "# Step 1: Limit the dataset size\n",
        "subset_size = 5000\n",
        "test_subset_size = 1000\n",
        "\n",
        "x_train_subset = x_train[:subset_size]\n",
        "y_train_subset = y_train[:subset_size]\n",
        "\n",
        "x_test_subset = x_test[:test_subset_size]\n",
        "y_test_subset = y_test[:test_subset_size]\n",
        "\n",
        "# Step 2: Pad the sequences\n",
        "maxlen = 200\n",
        "\n",
        "x_train_padded = pad_sequences(x_train_subset, maxlen=maxlen, padding='post', truncating='post')\n",
        "x_test_padded = pad_sequences(x_test_subset, maxlen=maxlen, padding='post', truncating='post')\n",
        "\n",
        "print(f\"Padded example (length={len(x_train_padded[0])}): {x_train_padded[0]}\")\n"
      ],
      "metadata": {
        "id": "OeI3OIoliunj",
        "outputId": "1654ce24-2814-432e-f69c-d8d0e282391b",
        "colab": {
          "base_uri": "https://localhost:8080/"
        }
      },
      "execution_count": 15,
      "outputs": [
        {
          "output_type": "stream",
          "name": "stdout",
          "text": [
            "Training samples: 25000\n",
            "Test samples: 25000\n",
            "Example review (as word indexes): [1, 14, 22, 16, 43, 530, 973, 1622, 1385, 65, 458, 4468, 66, 3941, 4, 173, 36, 256, 5, 25, 100, 43, 838, 112, 50, 670, 2, 9, 35, 480, 284, 5, 150, 4, 172, 112, 167, 2, 336, 385, 39, 4, 172, 4536, 1111, 17, 546, 38, 13, 447, 4, 192, 50, 16, 6, 147, 2025, 19, 14, 22, 4, 1920, 4613, 469, 4, 22, 71, 87, 12, 16, 43, 530, 38, 76, 15, 13, 1247, 4, 22, 17, 515, 17, 12, 16, 626, 18, 2, 5, 62, 386, 12, 8, 316, 8, 106, 5, 4, 2223, 2, 16, 480, 66, 3785, 33, 4, 130, 12, 16, 38, 619, 5, 25, 124, 51, 36, 135, 48, 25, 1415, 33, 6, 22, 12, 215, 28, 77, 52, 5, 14, 407, 16, 82, 2, 8, 4, 107, 117, 2, 15, 256, 4, 2, 7, 3766, 5, 723, 36, 71, 43, 530, 476, 26, 400, 317, 46, 7, 4, 2, 1029, 13, 104, 88, 4, 381, 15, 297, 98, 32, 2071, 56, 26, 141, 6, 194, 2, 18, 4, 226, 22, 21, 134, 476, 26, 480, 5, 144, 30, 2, 18, 51, 36, 28, 224, 92, 25, 104, 4, 226, 65, 16, 38, 1334, 88, 12, 16, 283, 5, 16, 4472, 113, 103, 32, 15, 16, 2, 19, 178, 32]\n",
            "Label (0=negative,1=positive): 1\n",
            "Padded example (length=200): [   1   14   22   16   43  530  973 1622 1385   65  458 4468   66 3941\n",
            "    4  173   36  256    5   25  100   43  838  112   50  670    2    9\n",
            "   35  480  284    5  150    4  172  112  167    2  336  385   39    4\n",
            "  172 4536 1111   17  546   38   13  447    4  192   50   16    6  147\n",
            " 2025   19   14   22    4 1920 4613  469    4   22   71   87   12   16\n",
            "   43  530   38   76   15   13 1247    4   22   17  515   17   12   16\n",
            "  626   18    2    5   62  386   12    8  316    8  106    5    4 2223\n",
            "    2   16  480   66 3785   33    4  130   12   16   38  619    5   25\n",
            "  124   51   36  135   48   25 1415   33    6   22   12  215   28   77\n",
            "   52    5   14  407   16   82    2    8    4  107  117    2   15  256\n",
            "    4    2    7 3766    5  723   36   71   43  530  476   26  400  317\n",
            "   46    7    4    2 1029   13  104   88    4  381   15  297   98   32\n",
            " 2071   56   26  141    6  194    2   18    4  226   22   21  134  476\n",
            "   26  480    5  144   30    2   18   51   36   28  224   92   25  104\n",
            "    4  226   65   16]\n"
          ]
        }
      ]
    },
    {
      "cell_type": "markdown",
      "source": [
        "# max number of words per review"
      ],
      "metadata": {
        "id": "GEYYwdyiC-p_"
      }
    },
    {
      "cell_type": "code",
      "source": [
        "!pip install -q keras-tuner\n"
      ],
      "metadata": {
        "id": "ZOacCkpDwz45",
        "outputId": "2a4daa9e-d9a7-48ae-8bcb-86622c38bf8c",
        "colab": {
          "base_uri": "https://localhost:8080/"
        }
      },
      "execution_count": 7,
      "outputs": [
        {
          "output_type": "stream",
          "name": "stdout",
          "text": [
            "\u001b[?25l   \u001b[90m━━━━━━━━━━━━━━━━━━━━━━━━━━━━━━━━━━━━━━━━\u001b[0m \u001b[32m0.0/129.1 kB\u001b[0m \u001b[31m?\u001b[0m eta \u001b[36m-:--:--\u001b[0m\r\u001b[2K   \u001b[90m━━━━━━━━━━━━━━━━━━━━━━━━━━━━━━━━━━━━━━━━\u001b[0m \u001b[32m129.1/129.1 kB\u001b[0m \u001b[31m4.4 MB/s\u001b[0m eta \u001b[36m0:00:00\u001b[0m\n",
            "\u001b[?25h"
          ]
        }
      ]
    },
    {
      "cell_type": "markdown",
      "source": [],
      "metadata": {
        "id": "sXLpgoDWDCyq"
      }
    },
    {
      "cell_type": "markdown",
      "source": [
        " # build Model with keras tuner"
      ],
      "metadata": {
        "id": "bRoUbyMADFBK"
      }
    },
    {
      "cell_type": "code",
      "source": [
        "import tensorflow as tf\n",
        "from tensorflow.keras.models import Sequential\n",
        "from tensorflow.keras.layers import Embedding, LSTM, Dense, Dropout\n",
        "from tensorflow.keras.optimizers import Adam\n",
        "\n",
        "def build_model(hp):\n",
        "    model = Sequential()\n",
        "\n",
        "    # Tune embedding dimension: 16, 32, 64\n",
        "    embedding_dim = hp.Choice('embedding_dim', values=[16, 32])\n",
        "    model.add(Embedding(input_dim=vocab_size, output_dim=embedding_dim, input_length=maxlen))\n",
        "\n",
        "    model.add(Dropout(0.4))  # Dropout after embedding\n",
        "\n",
        "    # Tune number of LSTM units: 16, 32, 64\n",
        "    rnn_units = hp.Choice('rnn_units', values=[16, 32])\n",
        "    model.add(LSTM(rnn_units, recurrent_dropout=0.2, return_sequences=False))\n",
        "\n",
        "    model.add(Dropout(0.4))  # Dropout after LSTM\n",
        "\n",
        "    model.add(Dense(1, activation='sigmoid'))\n",
        "\n",
        "    # Tune learning rate between 1e-4 and 1e-2\n",
        "    learning_rate = hp.Float('learning_rate', min_value=1e-4, max_value=1e-2, sampling='log')\n",
        "\n",
        "    model.compile(\n",
        "        optimizer=Adam(learning_rate=learning_rate),\n",
        "        loss='binary_crossentropy',\n",
        "        metrics=['accuracy']\n",
        "    )\n",
        "\n",
        "    return model\n"
      ],
      "metadata": {
        "id": "Vq7dTYJmvaOc"
      },
      "execution_count": 16,
      "outputs": []
    },
    {
      "cell_type": "code",
      "source": [
        "from tensorflow.keras.models import Sequential\n",
        "from tensorflow.keras.layers import Embedding, SimpleRNN, Dense\n",
        "from tensorflow.keras.optimizers import Adam\n",
        "import keras_tuner as kt\n",
        "\n",
        "\n",
        "tuner = kt.Hyperband(\n",
        "    build_model,\n",
        "    objective='val_loss',\n",
        "    max_epochs=5,        # small to avoid long runs\n",
        "    factor=3,\n",
        "    directory='my_dir',\n",
        "    project_name='my_project'\n",
        ")\n",
        "\n"
      ],
      "metadata": {
        "id": "mDs6gaumvc-M"
      },
      "execution_count": 17,
      "outputs": []
    },
    {
      "cell_type": "code",
      "source": [
        "from keras_tuner.tuners import RandomSearch\n",
        "\n",
        "tuner = RandomSearch(\n",
        "    build_model,\n",
        "    objective='val_accuracy',\n",
        "    max_trials=5,          # reduce this\n",
        "    executions_per_trial=1,\n",
        "    directory='my_dir',\n",
        "    project_name='my_project'\n",
        ")\n",
        "\n",
        "stop_early = tf.keras.callbacks.EarlyStopping(monitor='val_loss', patience=2)\n",
        "\n",
        "tuner.search(\n",
        "    x_train_padded,\n",
        "    y_train,\n",
        "    epochs=5,               # reduce epochs\n",
        "    validation_split=0.2,\n",
        "    batch_size=16,          # slightly higher batch size\n",
        "    callbacks=[stop_early]\n",
        ")\n"
      ],
      "metadata": {
        "colab": {
          "base_uri": "https://localhost:8080/"
        },
        "id": "7C22Z1ZWvjSB",
        "outputId": "f98ace0f-f22a-461a-c859-7be598b7bcd5"
      },
      "execution_count": 18,
      "outputs": [
        {
          "output_type": "stream",
          "name": "stdout",
          "text": [
            "Trial 5 Complete [00h 10m 08s]\n",
            "val_accuracy: 0.5600000023841858\n",
            "\n",
            "Best val_accuracy So Far: 0.5600000023841858\n",
            "Total elapsed time: 00h 51m 57s\n"
          ]
        }
      ]
    },
    {
      "cell_type": "markdown",
      "source": [
        " # geting the best MOdel params"
      ],
      "metadata": {
        "id": "TeHhaRa4DKrl"
      }
    },
    {
      "cell_type": "code",
      "source": [
        "best_hp = tuner.get_best_hyperparameters(1)[0]\n",
        "print(\"Best hyperparameters:\")\n",
        "print(f\"Embedding dimension: {best_hp.get('embedding_dim')}\")\n",
        "print(f\"RNN units: {best_hp.get('rnn_units')}\")\n",
        "print(f\"Learning rate: {best_hp.get('learning_rate'):.5f}\")\n",
        "\n"
      ],
      "metadata": {
        "id": "bkGL4x30xV7t",
        "outputId": "7d13232e-a170-4a93-973a-6f6f1ce6462d",
        "colab": {
          "base_uri": "https://localhost:8080/"
        }
      },
      "execution_count": 19,
      "outputs": [
        {
          "output_type": "stream",
          "name": "stdout",
          "text": [
            "Best hyperparameters:\n",
            "Embedding dimension: 32\n",
            "RNN units: 32\n",
            "Learning rate: 0.00025\n"
          ]
        }
      ]
    },
    {
      "cell_type": "markdown",
      "source": [
        " # Overfitting !!! Need to be solved from the results!!"
      ],
      "metadata": {
        "id": "e3MhG54hDPKE"
      }
    },
    {
      "cell_type": "markdown",
      "source": [
        " # adding the best Hp and adding Drop out for Overfitting/regularizer"
      ],
      "metadata": {
        "id": "asLHz0kRDWz6"
      }
    },
    {
      "cell_type": "code",
      "source": [
        "def build_model(hp):\n",
        "    model = Sequential()\n",
        "    model.add(Embedding(input_dim=vocab_size, output_dim=hp['embedding_dim'], input_length=maxlen))\n",
        "    model.add(Dropout(0.3))\n",
        "    model.add(LSTM(hp['rnn_units'], return_sequences=False))\n",
        "    model.add(Dropout(0.3))\n",
        "    model.add(Dense(1, activation='sigmoid'))\n",
        "\n",
        "    optimizer = Adam(learning_rate=hp['learning_rate'])\n",
        "    model.compile(loss='binary_crossentropy', optimizer=optimizer, metrics=['accuracy'])\n",
        "    return model\n",
        "\n",
        "# Build model with best hyperparameters\n",
        "best_model = build_model(best_hp)\n",
        "\n",
        "# Early stopping to prevent overfitting\n",
        "stop_early = tf.keras.callbacks.EarlyStopping(monitor='val_loss', patience=2, restore_best_weights=True)\n",
        "\n",
        "# Train the model\n",
        "history = best_model.fit(\n",
        "    x_train_padded, y_train,\n",
        "    epochs=80,\n",
        "    validation_split=0.2,\n",
        "    callbacks=[stop_early],\n",
        "    batch_size=16\n",
        ")\n"
      ],
      "metadata": {
        "id": "okfP0Uz-57WS",
        "outputId": "06789d81-e823-4211-d271-fe6b54d5b2f7",
        "colab": {
          "base_uri": "https://localhost:8080/"
        }
      },
      "execution_count": 21,
      "outputs": [
        {
          "output_type": "stream",
          "name": "stdout",
          "text": [
            "Epoch 1/80\n",
            "\u001b[1m250/250\u001b[0m \u001b[32m━━━━━━━━━━━━━━━━━━━━\u001b[0m\u001b[37m\u001b[0m \u001b[1m5s\u001b[0m 11ms/step - accuracy: 0.4852 - loss: 0.6934 - val_accuracy: 0.5140 - val_loss: 0.6928\n",
            "Epoch 2/80\n",
            "\u001b[1m250/250\u001b[0m \u001b[32m━━━━━━━━━━━━━━━━━━━━\u001b[0m\u001b[37m\u001b[0m \u001b[1m5s\u001b[0m 13ms/step - accuracy: 0.5221 - loss: 0.6923 - val_accuracy: 0.5180 - val_loss: 0.6924\n",
            "Epoch 3/80\n",
            "\u001b[1m250/250\u001b[0m \u001b[32m━━━━━━━━━━━━━━━━━━━━\u001b[0m\u001b[37m\u001b[0m \u001b[1m3s\u001b[0m 10ms/step - accuracy: 0.5410 - loss: 0.6898 - val_accuracy: 0.5270 - val_loss: 0.6925\n",
            "Epoch 4/80\n",
            "\u001b[1m250/250\u001b[0m \u001b[32m━━━━━━━━━━━━━━━━━━━━\u001b[0m\u001b[37m\u001b[0m \u001b[1m3s\u001b[0m 11ms/step - accuracy: 0.6015 - loss: 0.6807 - val_accuracy: 0.5960 - val_loss: 0.6551\n",
            "Epoch 5/80\n",
            "\u001b[1m250/250\u001b[0m \u001b[32m━━━━━━━━━━━━━━━━━━━━\u001b[0m\u001b[37m\u001b[0m \u001b[1m5s\u001b[0m 11ms/step - accuracy: 0.6696 - loss: 0.6589 - val_accuracy: 0.6860 - val_loss: 0.6241\n",
            "Epoch 6/80\n",
            "\u001b[1m250/250\u001b[0m \u001b[32m━━━━━━━━━━━━━━━━━━━━\u001b[0m\u001b[37m\u001b[0m \u001b[1m3s\u001b[0m 12ms/step - accuracy: 0.6960 - loss: 0.6197 - val_accuracy: 0.6500 - val_loss: 0.6214\n",
            "Epoch 7/80\n",
            "\u001b[1m250/250\u001b[0m \u001b[32m━━━━━━━━━━━━━━━━━━━━\u001b[0m\u001b[37m\u001b[0m \u001b[1m3s\u001b[0m 10ms/step - accuracy: 0.7412 - loss: 0.5737 - val_accuracy: 0.7260 - val_loss: 0.5983\n",
            "Epoch 8/80\n",
            "\u001b[1m250/250\u001b[0m \u001b[32m━━━━━━━━━━━━━━━━━━━━\u001b[0m\u001b[37m\u001b[0m \u001b[1m3s\u001b[0m 10ms/step - accuracy: 0.7732 - loss: 0.5545 - val_accuracy: 0.7100 - val_loss: 0.5956\n",
            "Epoch 9/80\n",
            "\u001b[1m250/250\u001b[0m \u001b[32m━━━━━━━━━━━━━━━━━━━━\u001b[0m\u001b[37m\u001b[0m \u001b[1m3s\u001b[0m 10ms/step - accuracy: 0.7077 - loss: 0.6011 - val_accuracy: 0.6320 - val_loss: 0.6418\n",
            "Epoch 10/80\n",
            "\u001b[1m250/250\u001b[0m \u001b[32m━━━━━━━━━━━━━━━━━━━━\u001b[0m\u001b[37m\u001b[0m \u001b[1m3s\u001b[0m 13ms/step - accuracy: 0.6614 - loss: 0.6038 - val_accuracy: 0.7520 - val_loss: 0.5587\n",
            "Epoch 11/80\n",
            "\u001b[1m250/250\u001b[0m \u001b[32m━━━━━━━━━━━━━━━━━━━━\u001b[0m\u001b[37m\u001b[0m \u001b[1m5s\u001b[0m 12ms/step - accuracy: 0.7836 - loss: 0.5331 - val_accuracy: 0.7610 - val_loss: 0.5404\n",
            "Epoch 12/80\n",
            "\u001b[1m250/250\u001b[0m \u001b[32m━━━━━━━━━━━━━━━━━━━━\u001b[0m\u001b[37m\u001b[0m \u001b[1m5s\u001b[0m 10ms/step - accuracy: 0.7081 - loss: 0.6010 - val_accuracy: 0.7430 - val_loss: 0.5580\n",
            "Epoch 13/80\n",
            "\u001b[1m250/250\u001b[0m \u001b[32m━━━━━━━━━━━━━━━━━━━━\u001b[0m\u001b[37m\u001b[0m \u001b[1m3s\u001b[0m 13ms/step - accuracy: 0.7924 - loss: 0.5110 - val_accuracy: 0.7830 - val_loss: 0.5197\n",
            "Epoch 14/80\n",
            "\u001b[1m250/250\u001b[0m \u001b[32m━━━━━━━━━━━━━━━━━━━━\u001b[0m\u001b[37m\u001b[0m \u001b[1m3s\u001b[0m 10ms/step - accuracy: 0.8182 - loss: 0.4829 - val_accuracy: 0.7940 - val_loss: 0.4962\n",
            "Epoch 15/80\n",
            "\u001b[1m250/250\u001b[0m \u001b[32m━━━━━━━━━━━━━━━━━━━━\u001b[0m\u001b[37m\u001b[0m \u001b[1m3s\u001b[0m 10ms/step - accuracy: 0.8592 - loss: 0.4095 - val_accuracy: 0.8010 - val_loss: 0.4682\n",
            "Epoch 16/80\n",
            "\u001b[1m250/250\u001b[0m \u001b[32m━━━━━━━━━━━━━━━━━━━━\u001b[0m\u001b[37m\u001b[0m \u001b[1m3s\u001b[0m 10ms/step - accuracy: 0.8703 - loss: 0.3823 - val_accuracy: 0.8090 - val_loss: 0.4640\n",
            "Epoch 17/80\n",
            "\u001b[1m250/250\u001b[0m \u001b[32m━━━━━━━━━━━━━━━━━━━━\u001b[0m\u001b[37m\u001b[0m \u001b[1m3s\u001b[0m 12ms/step - accuracy: 0.8460 - loss: 0.4279 - val_accuracy: 0.8120 - val_loss: 0.4799\n",
            "Epoch 18/80\n",
            "\u001b[1m250/250\u001b[0m \u001b[32m━━━━━━━━━━━━━━━━━━━━\u001b[0m\u001b[37m\u001b[0m \u001b[1m5s\u001b[0m 10ms/step - accuracy: 0.8885 - loss: 0.3424 - val_accuracy: 0.7890 - val_loss: 0.5223\n"
          ]
        }
      ]
    },
    {
      "cell_type": "markdown",
      "source": [
        "# Testing: better tokenizer: splits punctuation properly"
      ],
      "metadata": {
        "id": "KEpoeF46DnMQ"
      }
    },
    {
      "cell_type": "code",
      "source": [
        "import tensorflow as tf\n",
        "from tensorflow.keras.preprocessing.sequence import pad_sequences\n",
        "from tensorflow.keras.preprocessing.text import text_to_word_sequence\n",
        "from tensorflow.keras.datasets import imdb\n",
        "\n",
        "# Load word index\n",
        "word_index = imdb.get_word_index()\n",
        "maxlen = 200  # Use the same maxlen as used for training\n",
        "\n",
        "# Your pre-trained best_model should already exist here\n",
        "\n",
        "def encode_review(text):\n",
        "    tokens = text_to_word_sequence(text)\n",
        "    encoded = [word_index.get(word, 2) + 3 for word in tokens]  # +3 for correct offset\n",
        "    return pad_sequences([encoded], maxlen=maxlen, padding='post')\n",
        "\n",
        "new_review = \"Prices are way too high for the quality offered. Not worth shopping here\"\n",
        "encoded_review = encode_review(new_review)\n",
        "prediction = best_model.predict(encoded_review, verbose=0)[0][0]\n",
        "\n",
        "confidence = prediction * 100\n",
        "sentiment = \"Positive\" if prediction >= 0.5 else \"Negative\"\n",
        "bar_length = int(confidence // 5)\n",
        "\n",
        "print(f\"Review: \\\"{new_review}\\\"\")\n",
        "print(f\"Sentiment: {sentiment} ({confidence:.2f}%)\")\n",
        "print(\"Confidence: [\" + \"#\" * bar_length + \"-\" * (20 - bar_length) + \"]\")\n"
      ],
      "metadata": {
        "id": "iV-eDuQWxYi8",
        "outputId": "b534ce8f-8fcf-4bf8-d44a-84dd69325fa4",
        "colab": {
          "base_uri": "https://localhost:8080/"
        }
      },
      "execution_count": 23,
      "outputs": [
        {
          "output_type": "stream",
          "name": "stdout",
          "text": [
            "Downloading data from https://storage.googleapis.com/tensorflow/tf-keras-datasets/imdb_word_index.json\n",
            "\u001b[1m1641221/1641221\u001b[0m \u001b[32m━━━━━━━━━━━━━━━━━━━━\u001b[0m\u001b[37m\u001b[0m \u001b[1m0s\u001b[0m 0us/step\n",
            "Review: \"Prices are way too high for the quality offered. Not worth shopping here\"\n",
            "Sentiment: Negative (10.72%)\n",
            "Confidence: [##------------------]\n"
          ]
        }
      ]
    },
    {
      "cell_type": "markdown",
      "source": [
        "# Plot training & validation loss values\n"
      ],
      "metadata": {
        "id": "zUA67NhNDieB"
      }
    },
    {
      "cell_type": "code",
      "source": [
        "import matplotlib.pyplot as plt\n",
        "\n",
        "plt.figure(figsize=(12, 5))\n",
        "\n",
        "plt.subplot(1, 2, 1)\n",
        "plt.plot(history.history['accuracy'], label='Train Accuracy')\n",
        "plt.plot(history.history['val_accuracy'], label='Validation Accuracy')\n",
        "plt.title('Model Accuracy')\n",
        "plt.xlabel('Epoch')\n",
        "plt.ylabel('Accuracy')\n",
        "plt.legend()\n",
        "\n",
        "plt.subplot(1, 2, 2)\n",
        "plt.plot(history.history['loss'], label='Train Loss')\n",
        "plt.plot(history.history['val_loss'], label='Validation Loss')\n",
        "plt.title('Model Loss')\n",
        "plt.xlabel('Epoch')\n",
        "plt.ylabel('Loss')\n",
        "plt.legend()\n",
        "\n",
        "plt.show()\n"
      ],
      "metadata": {
        "id": "9D57o2cqxazT",
        "outputId": "80a09000-7eae-4dec-c3f9-c4bc89724410",
        "colab": {
          "base_uri": "https://localhost:8080/",
          "height": 487
        }
      },
      "execution_count": 24,
      "outputs": [
        {
          "output_type": "display_data",
          "data": {
            "text/plain": [
              "<Figure size 1200x500 with 2 Axes>"
            ],
            "image/png": "[encoded data removed]"
          },
          "metadata": {}
        }
      ]
    },
    {
      "cell_type": "markdown",
      "source": [
        "  #   Conclusion\n",
        "The model uses Bidirectional LSTM with dropout and L2 regularization to reduce overfitting.\n",
        "\n",
        "Despite these regularization techniques, the validation loss curve showed some irregular behavior, possibly due to:\n",
        "\n",
        "Strong regularization causing underfitting early in training.\n",
        "\n",
        "Potential data imbalance or noisy validation split.\n",
        "\n",
        "Learning rate being too high or batch size too small.\n",
        "\n",
        "To address this, consider:\n",
        "\n",
        "Reducing dropout rate and L2 regularization strength.\n",
        "\n",
        "Using stratified train/validation splits to ensure balanced classes.\n",
        "\n",
        "Adding learning rate scheduling such as ReduceLROnPlateau.\n",
        "\n",
        "Experimenting with different batch sizes.\n",
        "\n",
        "Early stopping was used to prevent overfitting, restoring the best weights based on validation loss.\n",
        "\n",
        "Overall, validation loss fluctuations are common in NLP sequence models with regularization; monitoring both validation loss and accuracy is important.\n",
        "\n",
        "Future steps include refining data splits, tuning hyperparameters further, and possibly increasing training data for better generalization."
      ],
      "metadata": {
        "id": "R-l10bbOZhDk"
      }
    }
  ]
}